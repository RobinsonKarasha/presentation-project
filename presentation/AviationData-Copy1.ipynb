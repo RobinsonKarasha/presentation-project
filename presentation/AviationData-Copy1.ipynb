{
 "cells": [
  {
   "cell_type": "code",
   "execution_count": 3,
   "id": "be93df17-f02c-40e1-a764-9cc0a4e7c102",
   "metadata": {},
   "outputs": [],
   "source": [
    "import pandas as pd"
   ]
  },
  {
   "cell_type": "code",
   "execution_count": 5,
   "id": "072fd980-bd28-4ebb-94d2-72484718950b",
   "metadata": {},
   "outputs": [],
   "source": [
    "df = pd.read_csv('AviationData.csv')"
   ]
  },
  {
   "cell_type": "code",
   "execution_count": 6,
   "id": "8d461377-1a28-4d57-a1aa-411eb6f35951",
   "metadata": {},
   "outputs": [
    {
     "data": {
      "text/html": [
       "<div>\n",
       "<style scoped>\n",
       "    .dataframe tbody tr th:only-of-type {\n",
       "        vertical-align: middle;\n",
       "    }\n",
       "\n",
       "    .dataframe tbody tr th {\n",
       "        vertical-align: top;\n",
       "    }\n",
       "\n",
       "    .dataframe thead th {\n",
       "        text-align: right;\n",
       "    }\n",
       "</style>\n",
       "<table border=\"1\" class=\"dataframe\">\n",
       "  <thead>\n",
       "    <tr style=\"text-align: right;\">\n",
       "      <th></th>\n",
       "      <th>Event.Id</th>\n",
       "      <th>Investigation.Type</th>\n",
       "      <th>Accident.Number</th>\n",
       "      <th>Event.Date</th>\n",
       "      <th>Location</th>\n",
       "      <th>Country</th>\n",
       "      <th>Latitude</th>\n",
       "      <th>Longitude</th>\n",
       "      <th>Airport.Code</th>\n",
       "      <th>Airport.Name</th>\n",
       "      <th>...</th>\n",
       "      <th>Purpose.of.flight</th>\n",
       "      <th>Air.carrier</th>\n",
       "      <th>Total.Fatal.Injuries</th>\n",
       "      <th>Total.Serious.Injuries</th>\n",
       "      <th>Total.Minor.Injuries</th>\n",
       "      <th>Total.Uninjured</th>\n",
       "      <th>Weather.Condition</th>\n",
       "      <th>Broad.phase.of.flight</th>\n",
       "      <th>Report.Status</th>\n",
       "      <th>Publication.Date</th>\n",
       "    </tr>\n",
       "  </thead>\n",
       "  <tbody>\n",
       "    <tr>\n",
       "      <th>0</th>\n",
       "      <td>20001218X45444</td>\n",
       "      <td>Accident</td>\n",
       "      <td>SEA87LA080</td>\n",
       "      <td>24/10/1948</td>\n",
       "      <td>MOOSE CREEK, ID</td>\n",
       "      <td>United States</td>\n",
       "      <td>NaN</td>\n",
       "      <td>NaN</td>\n",
       "      <td>NaN</td>\n",
       "      <td>NaN</td>\n",
       "      <td>...</td>\n",
       "      <td>Personal</td>\n",
       "      <td>NaN</td>\n",
       "      <td>2.0</td>\n",
       "      <td>0.0</td>\n",
       "      <td>0.0</td>\n",
       "      <td>0.0</td>\n",
       "      <td>UNK</td>\n",
       "      <td>Cruise</td>\n",
       "      <td>Probable Cause</td>\n",
       "      <td>NaN</td>\n",
       "    </tr>\n",
       "    <tr>\n",
       "      <th>1</th>\n",
       "      <td>20001218X45447</td>\n",
       "      <td>Accident</td>\n",
       "      <td>LAX94LA336</td>\n",
       "      <td>19/07/1962</td>\n",
       "      <td>BRIDGEPORT, CA</td>\n",
       "      <td>United States</td>\n",
       "      <td>NaN</td>\n",
       "      <td>NaN</td>\n",
       "      <td>NaN</td>\n",
       "      <td>NaN</td>\n",
       "      <td>...</td>\n",
       "      <td>Personal</td>\n",
       "      <td>NaN</td>\n",
       "      <td>4.0</td>\n",
       "      <td>0.0</td>\n",
       "      <td>0.0</td>\n",
       "      <td>0.0</td>\n",
       "      <td>UNK</td>\n",
       "      <td>Unknown</td>\n",
       "      <td>Probable Cause</td>\n",
       "      <td>19/09/1996</td>\n",
       "    </tr>\n",
       "    <tr>\n",
       "      <th>2</th>\n",
       "      <td>20061025X01555</td>\n",
       "      <td>Accident</td>\n",
       "      <td>NYC07LA005</td>\n",
       "      <td>30/08/1974</td>\n",
       "      <td>Saltville, VA</td>\n",
       "      <td>United States</td>\n",
       "      <td>36.922223</td>\n",
       "      <td>-81.878056</td>\n",
       "      <td>NaN</td>\n",
       "      <td>NaN</td>\n",
       "      <td>...</td>\n",
       "      <td>Personal</td>\n",
       "      <td>NaN</td>\n",
       "      <td>3.0</td>\n",
       "      <td>NaN</td>\n",
       "      <td>NaN</td>\n",
       "      <td>NaN</td>\n",
       "      <td>IMC</td>\n",
       "      <td>Cruise</td>\n",
       "      <td>Probable Cause</td>\n",
       "      <td>26/02/2007</td>\n",
       "    </tr>\n",
       "    <tr>\n",
       "      <th>3</th>\n",
       "      <td>20001218X45448</td>\n",
       "      <td>Accident</td>\n",
       "      <td>LAX96LA321</td>\n",
       "      <td>19/06/1977</td>\n",
       "      <td>EUREKA, CA</td>\n",
       "      <td>United States</td>\n",
       "      <td>NaN</td>\n",
       "      <td>NaN</td>\n",
       "      <td>NaN</td>\n",
       "      <td>NaN</td>\n",
       "      <td>...</td>\n",
       "      <td>Personal</td>\n",
       "      <td>NaN</td>\n",
       "      <td>2.0</td>\n",
       "      <td>0.0</td>\n",
       "      <td>0.0</td>\n",
       "      <td>0.0</td>\n",
       "      <td>IMC</td>\n",
       "      <td>Cruise</td>\n",
       "      <td>Probable Cause</td>\n",
       "      <td>12/09/2000</td>\n",
       "    </tr>\n",
       "    <tr>\n",
       "      <th>4</th>\n",
       "      <td>20041105X01764</td>\n",
       "      <td>Accident</td>\n",
       "      <td>CHI79FA064</td>\n",
       "      <td>02/08/1979</td>\n",
       "      <td>Canton, OH</td>\n",
       "      <td>United States</td>\n",
       "      <td>NaN</td>\n",
       "      <td>NaN</td>\n",
       "      <td>NaN</td>\n",
       "      <td>NaN</td>\n",
       "      <td>...</td>\n",
       "      <td>Personal</td>\n",
       "      <td>NaN</td>\n",
       "      <td>1.0</td>\n",
       "      <td>2.0</td>\n",
       "      <td>NaN</td>\n",
       "      <td>0.0</td>\n",
       "      <td>VMC</td>\n",
       "      <td>Approach</td>\n",
       "      <td>Probable Cause</td>\n",
       "      <td>16/04/1980</td>\n",
       "    </tr>\n",
       "    <tr>\n",
       "      <th>...</th>\n",
       "      <td>...</td>\n",
       "      <td>...</td>\n",
       "      <td>...</td>\n",
       "      <td>...</td>\n",
       "      <td>...</td>\n",
       "      <td>...</td>\n",
       "      <td>...</td>\n",
       "      <td>...</td>\n",
       "      <td>...</td>\n",
       "      <td>...</td>\n",
       "      <td>...</td>\n",
       "      <td>...</td>\n",
       "      <td>...</td>\n",
       "      <td>...</td>\n",
       "      <td>...</td>\n",
       "      <td>...</td>\n",
       "      <td>...</td>\n",
       "      <td>...</td>\n",
       "      <td>...</td>\n",
       "      <td>...</td>\n",
       "      <td>...</td>\n",
       "    </tr>\n",
       "    <tr>\n",
       "      <th>16378</th>\n",
       "      <td>20001213X35106</td>\n",
       "      <td>Accident</td>\n",
       "      <td>ATL87MA028</td>\n",
       "      <td>25/11/1986</td>\n",
       "      <td>CINCINNATI, OH</td>\n",
       "      <td>United States</td>\n",
       "      <td>NaN</td>\n",
       "      <td>NaN</td>\n",
       "      <td>LUK</td>\n",
       "      <td>LUNKEN FIELD</td>\n",
       "      <td>...</td>\n",
       "      <td>Aerial Observation</td>\n",
       "      <td>NaN</td>\n",
       "      <td>2.0</td>\n",
       "      <td>0.0</td>\n",
       "      <td>0.0</td>\n",
       "      <td>0.0</td>\n",
       "      <td>IMC</td>\n",
       "      <td>Cruise</td>\n",
       "      <td>Probable Cause</td>\n",
       "      <td>12/02/1988</td>\n",
       "    </tr>\n",
       "    <tr>\n",
       "      <th>16379</th>\n",
       "      <td>20001213X35092</td>\n",
       "      <td>Incident</td>\n",
       "      <td>ATL87IA027</td>\n",
       "      <td>25/11/1986</td>\n",
       "      <td>LOUISVILLE, KY</td>\n",
       "      <td>United States</td>\n",
       "      <td>NaN</td>\n",
       "      <td>NaN</td>\n",
       "      <td>SDF</td>\n",
       "      <td>STANDIFORD</td>\n",
       "      <td>...</td>\n",
       "      <td>Unknown</td>\n",
       "      <td>Jet Stream Int'l</td>\n",
       "      <td>0.0</td>\n",
       "      <td>0.0</td>\n",
       "      <td>0.0</td>\n",
       "      <td>12.0</td>\n",
       "      <td>VMC</td>\n",
       "      <td>Taxi</td>\n",
       "      <td>Probable Cause</td>\n",
       "      <td>NaN</td>\n",
       "    </tr>\n",
       "    <tr>\n",
       "      <th>16380</th>\n",
       "      <td>20001213X35284</td>\n",
       "      <td>Accident</td>\n",
       "      <td>SEA87LA033</td>\n",
       "      <td>25/11/1986</td>\n",
       "      <td>WAITSBURG, WA</td>\n",
       "      <td>United States</td>\n",
       "      <td>NaN</td>\n",
       "      <td>NaN</td>\n",
       "      <td>NaN</td>\n",
       "      <td>NaN</td>\n",
       "      <td>...</td>\n",
       "      <td>Personal</td>\n",
       "      <td>NaN</td>\n",
       "      <td>0.0</td>\n",
       "      <td>0.0</td>\n",
       "      <td>2.0</td>\n",
       "      <td>0.0</td>\n",
       "      <td>VMC</td>\n",
       "      <td>Maneuvering</td>\n",
       "      <td>Probable Cause</td>\n",
       "      <td>10/03/1988</td>\n",
       "    </tr>\n",
       "    <tr>\n",
       "      <th>16381</th>\n",
       "      <td>20001213X35247</td>\n",
       "      <td>Accident</td>\n",
       "      <td>MKC87LA023</td>\n",
       "      <td>25/11/1986</td>\n",
       "      <td>COLBY, KS</td>\n",
       "      <td>United States</td>\n",
       "      <td>NaN</td>\n",
       "      <td>NaN</td>\n",
       "      <td>NaN</td>\n",
       "      <td>NaN</td>\n",
       "      <td>...</td>\n",
       "      <td>Personal</td>\n",
       "      <td>NaN</td>\n",
       "      <td>0.0</td>\n",
       "      <td>0.0</td>\n",
       "      <td>0.0</td>\n",
       "      <td>1.0</td>\n",
       "      <td>VMC</td>\n",
       "      <td>Cruise</td>\n",
       "      <td>Probable Cause</td>\n",
       "      <td>NaN</td>\n",
       "    </tr>\n",
       "    <tr>\n",
       "      <th>16382</th>\n",
       "      <td>20001213X35202</td>\n",
       "      <td>Accident</td>\n",
       "      <td>LAX87LA050</td>\n",
       "      <td>25/11/1986</td>\n",
       "      <td>HALF MOON BAY, CA</td>\n",
       "      <td>United States</td>\n",
       "      <td>NaN</td>\n",
       "      <td>NaN</td>\n",
       "      <td>HAF</td>\n",
       "      <td>HALF MOON BAY</td>\n",
       "      <td>...</td>\n",
       "      <td>Personal</td>\n",
       "      <td>NaN</td>\n",
       "      <td>0.0</td>\n",
       "      <td>0.0</td>\n",
       "      <td>0.0</td>\n",
       "      <td>2.0</td>\n",
       "      <td>VMC</td>\n",
       "      <td>Landing</td>\n",
       "      <td>Probable Cause</td>\n",
       "      <td>10/03/1988</td>\n",
       "    </tr>\n",
       "  </tbody>\n",
       "</table>\n",
       "<p>16383 rows × 31 columns</p>\n",
       "</div>"
      ],
      "text/plain": [
       "             Event.Id Investigation.Type Accident.Number  Event.Date  \\\n",
       "0      20001218X45444           Accident      SEA87LA080  24/10/1948   \n",
       "1      20001218X45447           Accident      LAX94LA336  19/07/1962   \n",
       "2      20061025X01555           Accident      NYC07LA005  30/08/1974   \n",
       "3      20001218X45448           Accident      LAX96LA321  19/06/1977   \n",
       "4      20041105X01764           Accident      CHI79FA064  02/08/1979   \n",
       "...               ...                ...             ...         ...   \n",
       "16378  20001213X35106           Accident      ATL87MA028  25/11/1986   \n",
       "16379  20001213X35092           Incident      ATL87IA027  25/11/1986   \n",
       "16380  20001213X35284           Accident      SEA87LA033  25/11/1986   \n",
       "16381  20001213X35247           Accident      MKC87LA023  25/11/1986   \n",
       "16382  20001213X35202           Accident      LAX87LA050  25/11/1986   \n",
       "\n",
       "                Location        Country   Latitude  Longitude Airport.Code  \\\n",
       "0        MOOSE CREEK, ID  United States        NaN        NaN          NaN   \n",
       "1         BRIDGEPORT, CA  United States        NaN        NaN          NaN   \n",
       "2          Saltville, VA  United States  36.922223 -81.878056          NaN   \n",
       "3             EUREKA, CA  United States        NaN        NaN          NaN   \n",
       "4             Canton, OH  United States        NaN        NaN          NaN   \n",
       "...                  ...            ...        ...        ...          ...   \n",
       "16378     CINCINNATI, OH  United States        NaN        NaN          LUK   \n",
       "16379     LOUISVILLE, KY  United States        NaN        NaN          SDF   \n",
       "16380      WAITSBURG, WA  United States        NaN        NaN          NaN   \n",
       "16381          COLBY, KS  United States        NaN        NaN          NaN   \n",
       "16382  HALF MOON BAY, CA  United States        NaN        NaN          HAF   \n",
       "\n",
       "        Airport.Name  ...   Purpose.of.flight       Air.carrier  \\\n",
       "0                NaN  ...            Personal               NaN   \n",
       "1                NaN  ...            Personal               NaN   \n",
       "2                NaN  ...            Personal               NaN   \n",
       "3                NaN  ...            Personal               NaN   \n",
       "4                NaN  ...            Personal               NaN   \n",
       "...              ...  ...                 ...               ...   \n",
       "16378   LUNKEN FIELD  ...  Aerial Observation               NaN   \n",
       "16379     STANDIFORD  ...             Unknown  Jet Stream Int'l   \n",
       "16380            NaN  ...            Personal               NaN   \n",
       "16381            NaN  ...            Personal               NaN   \n",
       "16382  HALF MOON BAY  ...            Personal               NaN   \n",
       "\n",
       "      Total.Fatal.Injuries Total.Serious.Injuries Total.Minor.Injuries  \\\n",
       "0                      2.0                    0.0                  0.0   \n",
       "1                      4.0                    0.0                  0.0   \n",
       "2                      3.0                    NaN                  NaN   \n",
       "3                      2.0                    0.0                  0.0   \n",
       "4                      1.0                    2.0                  NaN   \n",
       "...                    ...                    ...                  ...   \n",
       "16378                  2.0                    0.0                  0.0   \n",
       "16379                  0.0                    0.0                  0.0   \n",
       "16380                  0.0                    0.0                  2.0   \n",
       "16381                  0.0                    0.0                  0.0   \n",
       "16382                  0.0                    0.0                  0.0   \n",
       "\n",
       "      Total.Uninjured Weather.Condition  Broad.phase.of.flight  \\\n",
       "0                 0.0               UNK                 Cruise   \n",
       "1                 0.0               UNK                Unknown   \n",
       "2                 NaN               IMC                 Cruise   \n",
       "3                 0.0               IMC                 Cruise   \n",
       "4                 0.0               VMC               Approach   \n",
       "...               ...               ...                    ...   \n",
       "16378             0.0               IMC                 Cruise   \n",
       "16379            12.0               VMC                   Taxi   \n",
       "16380             0.0               VMC            Maneuvering   \n",
       "16381             1.0               VMC                 Cruise   \n",
       "16382             2.0               VMC                Landing   \n",
       "\n",
       "        Report.Status Publication.Date  \n",
       "0      Probable Cause              NaN  \n",
       "1      Probable Cause       19/09/1996  \n",
       "2      Probable Cause       26/02/2007  \n",
       "3      Probable Cause       12/09/2000  \n",
       "4      Probable Cause       16/04/1980  \n",
       "...               ...              ...  \n",
       "16378  Probable Cause       12/02/1988  \n",
       "16379  Probable Cause              NaN  \n",
       "16380  Probable Cause       10/03/1988  \n",
       "16381  Probable Cause              NaN  \n",
       "16382  Probable Cause       10/03/1988  \n",
       "\n",
       "[16383 rows x 31 columns]"
      ]
     },
     "execution_count": 6,
     "metadata": {},
     "output_type": "execute_result"
    }
   ],
   "source": [
    "pd.DataFrame(df)"
   ]
  },
  {
   "cell_type": "code",
   "execution_count": 7,
   "id": "6c2f514a-cae1-4bb1-ad1b-90118cdeb1aa",
   "metadata": {},
   "outputs": [
    {
     "data": {
      "text/plain": [
       "(16383, 31)"
      ]
     },
     "execution_count": 7,
     "metadata": {},
     "output_type": "execute_result"
    }
   ],
   "source": [
    "df.shape"
   ]
  },
  {
   "cell_type": "code",
   "execution_count": 8,
   "id": "dc50a78e-e89b-4d8a-9897-046c1b86f0be",
   "metadata": {},
   "outputs": [
    {
     "name": "stdout",
     "output_type": "stream",
     "text": [
      "<class 'pandas.core.frame.DataFrame'>\n",
      "RangeIndex: 16383 entries, 0 to 16382\n",
      "Data columns (total 31 columns):\n",
      " #   Column                  Non-Null Count  Dtype  \n",
      "---  ------                  --------------  -----  \n",
      " 0   Event.Id                16383 non-null  object \n",
      " 1   Investigation.Type      16383 non-null  object \n",
      " 2   Accident.Number         16383 non-null  object \n",
      " 3   Event.Date              16383 non-null  object \n",
      " 4   Location                16378 non-null  object \n",
      " 5   Country                 16314 non-null  object \n",
      " 6   Latitude                5 non-null      float64\n",
      " 7   Longitude               5 non-null      float64\n",
      " 8   Airport.Code            8345 non-null   object \n",
      " 9   Airport.Name            9828 non-null   object \n",
      " 10  Injury.Severity         16383 non-null  object \n",
      " 11  Aircraft.damage         16057 non-null  object \n",
      " 12  Aircraft.Category       3601 non-null   object \n",
      " 13  Registration.Number     16383 non-null  object \n",
      " 14  Make                    16377 non-null  object \n",
      " 15  Model                   16367 non-null  object \n",
      " 16  Amateur.Built           16382 non-null  object \n",
      " 17  Number.of.Engines       16188 non-null  float64\n",
      " 18  Engine.Type             16381 non-null  object \n",
      " 19  FAR.Description         3601 non-null   object \n",
      " 20  Schedule                2701 non-null   object \n",
      " 21  Purpose.of.flight       16365 non-null  object \n",
      " 22  Air.carrier             755 non-null    object \n",
      " 23  Total.Fatal.Injuries    16313 non-null  float64\n",
      " 24  Total.Serious.Injuries  16297 non-null  float64\n",
      " 25  Total.Minor.Injuries    16288 non-null  float64\n",
      " 26  Total.Uninjured         16332 non-null  float64\n",
      " 27  Weather.Condition       16381 non-null  object \n",
      " 28  Broad.phase.of.flight   16357 non-null  object \n",
      " 29  Report.Status           16383 non-null  object \n",
      " 30  Publication.Date        4075 non-null   object \n",
      "dtypes: float64(7), object(24)\n",
      "memory usage: 3.9+ MB\n"
     ]
    }
   ],
   "source": [
    "df.info()"
   ]
  },
  {
   "cell_type": "code",
   "execution_count": 10,
   "id": "38d45aea-3e6f-415f-815a-f62515e50423",
   "metadata": {},
   "outputs": [
    {
     "data": {
      "text/plain": [
       "0"
      ]
     },
     "execution_count": 10,
     "metadata": {},
     "output_type": "execute_result"
    }
   ],
   "source": [
    "df.duplicated().sum()"
   ]
  },
  {
   "cell_type": "code",
   "execution_count": 11,
   "id": "6e95ead6-51b8-4627-832f-57eec60cce2f",
   "metadata": {},
   "outputs": [
    {
     "data": {
      "text/plain": [
       "Event.Id                      0\n",
       "Investigation.Type            0\n",
       "Accident.Number               0\n",
       "Event.Date                    0\n",
       "Location                      5\n",
       "Country                      69\n",
       "Latitude                  16378\n",
       "Longitude                 16378\n",
       "Airport.Code               8038\n",
       "Airport.Name               6555\n",
       "Injury.Severity               0\n",
       "Aircraft.damage             326\n",
       "Aircraft.Category         12782\n",
       "Registration.Number           0\n",
       "Make                          6\n",
       "Model                        16\n",
       "Amateur.Built                 1\n",
       "Number.of.Engines           195\n",
       "Engine.Type                   2\n",
       "FAR.Description           12782\n",
       "Schedule                  13682\n",
       "Purpose.of.flight            18\n",
       "Air.carrier               15628\n",
       "Total.Fatal.Injuries         70\n",
       "Total.Serious.Injuries       86\n",
       "Total.Minor.Injuries         95\n",
       "Total.Uninjured              51\n",
       "Weather.Condition             2\n",
       "Broad.phase.of.flight        26\n",
       "Report.Status                 0\n",
       "Publication.Date          12308\n",
       "dtype: int64"
      ]
     },
     "execution_count": 11,
     "metadata": {},
     "output_type": "execute_result"
    }
   ],
   "source": [
    "df.isnull().sum()"
   ]
  },
  {
   "cell_type": "code",
   "execution_count": 12,
   "id": "261e073a-8578-49f7-a8b9-386720ccdfd0",
   "metadata": {},
   "outputs": [
    {
     "data": {
      "text/plain": [
       "0          MOOSE CREEK, ID\n",
       "1           BRIDGEPORT, CA\n",
       "2            Saltville, VA\n",
       "3               EUREKA, CA\n",
       "4               Canton, OH\n",
       "               ...        \n",
       "16378       CINCINNATI, OH\n",
       "16379       LOUISVILLE, KY\n",
       "16380        WAITSBURG, WA\n",
       "16381            COLBY, KS\n",
       "16382    HALF MOON BAY, CA\n",
       "Name: Location, Length: 16383, dtype: object"
      ]
     },
     "execution_count": 12,
     "metadata": {},
     "output_type": "execute_result"
    }
   ],
   "source": [
    "df['Location']"
   ]
  },
  {
   "cell_type": "code",
   "execution_count": 13,
   "id": "8d1b37c0-8449-4dd5-8c47-11426a3d5a05",
   "metadata": {},
   "outputs": [],
   "source": [
    "df.dropna(subset=['Location'], inplace=True)"
   ]
  },
  {
   "cell_type": "code",
   "execution_count": 45,
   "id": "59df0d62-8182-45ac-a148-1e8c70e69a2a",
   "metadata": {},
   "outputs": [
    {
     "data": {
      "text/plain": [
       "Event.Id                    0.00\n",
       "Investigation.Type          0.00\n",
       "Accident.Number             0.00\n",
       "Event.Date                  0.00\n",
       "Location                    0.00\n",
       "Country                     0.00\n",
       "Latitude                    0.00\n",
       "Longitude                   0.00\n",
       "Airport.Code                0.00\n",
       "Airport.Name                0.00\n",
       "Injury.Severity             0.00\n",
       "Aircraft.damage             0.00\n",
       "Aircraft.Category           0.00\n",
       "Registration.Number         0.00\n",
       "Make                        0.00\n",
       "Model                       0.00\n",
       "Amateur.Built               0.00\n",
       "Number.of.Engines           0.00\n",
       "Engine.Type                 0.02\n",
       "FAR.Description           127.75\n",
       "Schedule                  136.58\n",
       "Purpose.of.flight           0.18\n",
       "Air.carrier               156.02\n",
       "Total.Fatal.Injuries        0.70\n",
       "Total.Serious.Injuries      0.86\n",
       "Total.Minor.Injuries        0.95\n",
       "Total.Uninjured             0.51\n",
       "Weather.Condition           0.02\n",
       "Broad.phase.of.flight       0.25\n",
       "Report.Status               0.00\n",
       "Publication.Date          123.02\n",
       "dtype: float64"
      ]
     },
     "execution_count": 45,
     "metadata": {},
     "output_type": "execute_result"
    }
   ],
   "source": [
    "df.isnull().sum()/100"
   ]
  },
  {
   "cell_type": "code",
   "execution_count": 15,
   "id": "c9d3bf0c-eb3f-4364-b0a3-002305e40ee4",
   "metadata": {},
   "outputs": [],
   "source": [
    "df_cleaned_country = df['Country'].ffill(inplace = True)"
   ]
  },
  {
   "cell_type": "code",
   "execution_count": 20,
   "id": "0002b5a3-574c-4220-b5cf-ffb66225c6d2",
   "metadata": {},
   "outputs": [],
   "source": [
    "latitude_data = df['Latitude']\n",
    "mode_value = latitude_data.mode().iloc[0]\n",
    "latitude_data_filled = latitude_data.fillna(mode_value)\n",
    "df['Latitude'] = latitude_data_filled"
   ]
  },
  {
   "cell_type": "code",
   "execution_count": 21,
   "id": "3fd63142-c9b9-4053-aa3a-a12c3c2b2f9c",
   "metadata": {},
   "outputs": [],
   "source": [
    "longitude= df['Longitude']\n",
    "mode = longitude.mode().iloc[0]\n",
    "longitude_filled = longitude.fillna(mode)\n",
    "df['Longitude'] = longitude_filled"
   ]
  },
  {
   "cell_type": "code",
   "execution_count": 24,
   "id": "24827a70-d2ae-4b92-a464-251095751c76",
   "metadata": {},
   "outputs": [],
   "source": [
    "code = df['Airport.Code']\n",
    "mode = code.mode().iloc[0]\n",
    "filled = code.fillna(mode)\n",
    "df['Airport.Code'] = filled"
   ]
  },
  {
   "cell_type": "code",
   "execution_count": 25,
   "id": "e09ade58-fe83-4c88-b66f-75653e27428d",
   "metadata": {},
   "outputs": [
    {
     "data": {
      "text/plain": [
       "0                   NaN\n",
       "1                   NaN\n",
       "2                   NaN\n",
       "3                   NaN\n",
       "4                   NaN\n",
       "             ...       \n",
       "994            LAKEVIEW\n",
       "995    FAIRFIELD COUNTY\n",
       "996    DELAND MUNICIPAL\n",
       "997                 NaN\n",
       "998    WILLIAM P. HOBBY\n",
       "Name: Airport.Name, Length: 999, dtype: object"
      ]
     },
     "execution_count": 25,
     "metadata": {},
     "output_type": "execute_result"
    }
   ],
   "source": [
    "df['Airport.Name'].iloc[0:999]"
   ]
  },
  {
   "cell_type": "code",
   "execution_count": 26,
   "id": "59b30a65-fbe5-4e89-a6c4-ffb14d4176d8",
   "metadata": {},
   "outputs": [],
   "source": [
    "name_cleaned = df['Airport.Name'].fillna('Unknown', inplace=True)"
   ]
  },
  {
   "cell_type": "code",
   "execution_count": 28,
   "id": "bcd109da-60c1-4376-8893-7fdfa66b5174",
   "metadata": {},
   "outputs": [],
   "source": [
    "df['Injury.Severity']\n",
    "cleaned = df.dropna(subset=['Injury.Severity'], inplace=True)"
   ]
  },
  {
   "cell_type": "code",
   "execution_count": 30,
   "id": "b212ba85-862f-43a5-becb-ee6f5af73ccb",
   "metadata": {},
   "outputs": [
    {
     "data": {
      "text/plain": [
       "0        Destroyed\n",
       "1        Destroyed\n",
       "2        Destroyed\n",
       "3        Destroyed\n",
       "4        Destroyed\n",
       "          ...     \n",
       "994    Substantial\n",
       "995    Substantial\n",
       "996    Substantial\n",
       "997    Substantial\n",
       "998      Destroyed\n",
       "Name: Aircraft.damage, Length: 999, dtype: object"
      ]
     },
     "execution_count": 30,
     "metadata": {},
     "output_type": "execute_result"
    }
   ],
   "source": [
    "df['Aircraft.damage'].iloc[0:999]"
   ]
  },
  {
   "cell_type": "code",
   "execution_count": 31,
   "id": "b35a1774-9f54-4ed8-bd5f-438ed258a954",
   "metadata": {},
   "outputs": [],
   "source": [
    "data = df['Aircraft.damage']\n",
    "cleaned = data.mode().iloc[0]\n",
    "data.fillna(cleaned, inplace = True)"
   ]
  },
  {
   "cell_type": "code",
   "execution_count": 32,
   "id": "12b4a87d-804a-4db0-bfa6-ff7c0b358c4a",
   "metadata": {},
   "outputs": [
    {
     "data": {
      "text/plain": [
       "0        NaN\n",
       "1        NaN\n",
       "2        NaN\n",
       "3        NaN\n",
       "4        NaN\n",
       "        ... \n",
       "16378    NaN\n",
       "16379    NaN\n",
       "16380    NaN\n",
       "16381    NaN\n",
       "16382    NaN\n",
       "Name: Aircraft.Category, Length: 16378, dtype: object"
      ]
     },
     "execution_count": 32,
     "metadata": {},
     "output_type": "execute_result"
    }
   ],
   "source": [
    "df['Aircraft.Category']"
   ]
  },
  {
   "cell_type": "code",
   "execution_count": 33,
   "id": "4b46a735-0cf6-490a-abb5-30eadf1b9921",
   "metadata": {},
   "outputs": [],
   "source": [
    "categ = df['Aircraft.Category']\n",
    "data = categ.mode().iloc[0]\n",
    "categ.fillna(data, inplace = True)"
   ]
  },
  {
   "cell_type": "code",
   "execution_count": 34,
   "id": "7a695fe5-15f8-479f-8d0f-b48f1e6d2716",
   "metadata": {},
   "outputs": [
    {
     "name": "stdout",
     "output_type": "stream",
     "text": [
      "0        NC6404\n",
      "1        N5069P\n",
      "2        N5142R\n",
      "3        N1168J\n",
      "4         N15NY\n",
      "          ...  \n",
      "16378    N59610\n",
      "16379    N823JS\n",
      "16380    N6849H\n",
      "16381    N60046\n",
      "16382     N76EV\n",
      "Name: Registration.Number, Length: 16378, dtype: object\n"
     ]
    }
   ],
   "source": [
    "Registration = df['Registration.Number']\n",
    "print(Registration)"
   ]
  },
  {
   "cell_type": "code",
   "execution_count": 35,
   "id": "2856d390-e734-44af-92e5-e2b82074d2b2",
   "metadata": {},
   "outputs": [],
   "source": [
    "cleaned = df.dropna(subset=['Registration.Number'], inplace=True)"
   ]
  },
  {
   "cell_type": "code",
   "execution_count": 37,
   "id": "5bbf7893-c054-4f2c-93e9-7fcb7a10b597",
   "metadata": {},
   "outputs": [
    {
     "name": "stdout",
     "output_type": "stream",
     "text": [
      "0                  Stinson\n",
      "1                    Piper\n",
      "2                   Cessna\n",
      "3                 Rockwell\n",
      "4                   Cessna\n",
      "               ...        \n",
      "16378                 Bell\n",
      "16379    British Aerospace\n",
      "16380                Piper\n",
      "16381               Cessna\n",
      "16382                Piper\n",
      "Name: Make, Length: 16378, dtype: object\n"
     ]
    }
   ],
   "source": [
    "Make = df['Make']\n",
    "print(Make)"
   ]
  },
  {
   "cell_type": "code",
   "execution_count": 38,
   "id": "df70ad6e-896e-4ec5-8c7f-e30b82f188bb",
   "metadata": {},
   "outputs": [],
   "source": [
    "cleaned = df.dropna(subset=['Make'], inplace=True)"
   ]
  },
  {
   "cell_type": "code",
   "execution_count": 39,
   "id": "cb770786-9d32-49cb-bf1d-a995cd0feb7a",
   "metadata": {},
   "outputs": [
    {
     "name": "stdout",
     "output_type": "stream",
     "text": [
      "0            108-3\n",
      "1         PA24-180\n",
      "2             172M\n",
      "3              112\n",
      "4              501\n",
      "           ...    \n",
      "16378         206B\n",
      "16379        BA-31\n",
      "16380          J-3\n",
      "16381         150J\n",
      "16382    PA-18-150\n",
      "Name: Model, Length: 16372, dtype: object\n"
     ]
    }
   ],
   "source": [
    "Model = df['Model']\n",
    "print(Model)"
   ]
  },
  {
   "cell_type": "code",
   "execution_count": 40,
   "id": "342deb4b-44bc-4da7-a4fe-55e381923a11",
   "metadata": {},
   "outputs": [],
   "source": [
    "cleaned = df.dropna(subset=['Model'], inplace=True)"
   ]
  },
  {
   "cell_type": "code",
   "execution_count": 41,
   "id": "e3c1a7c9-3d10-4808-836c-819916b0c003",
   "metadata": {},
   "outputs": [
    {
     "data": {
      "text/plain": [
       "0        No\n",
       "1        No\n",
       "2        No\n",
       "3        No\n",
       "4        No\n",
       "         ..\n",
       "16378    No\n",
       "16379    No\n",
       "16380    No\n",
       "16381    No\n",
       "16382    No\n",
       "Name: Amateur.Built, Length: 16356, dtype: object"
      ]
     },
     "execution_count": 41,
     "metadata": {},
     "output_type": "execute_result"
    }
   ],
   "source": [
    "df['Amateur.Built']"
   ]
  },
  {
   "cell_type": "code",
   "execution_count": 42,
   "id": "b165f9bb-5345-4fbf-b42c-9157a0de2192",
   "metadata": {},
   "outputs": [],
   "source": [
    "data = df['Amateur.Built']\n",
    "cleaned = data.mode().iloc[0]\n",
    "data.fillna(cleaned, inplace = True)"
   ]
  },
  {
   "cell_type": "code",
   "execution_count": 43,
   "id": "2335e4da-0a90-4d92-966b-0ba0a0f78725",
   "metadata": {},
   "outputs": [
    {
     "data": {
      "text/plain": [
       "0        1.0\n",
       "1        1.0\n",
       "2        1.0\n",
       "3        1.0\n",
       "4        NaN\n",
       "        ... \n",
       "16378    1.0\n",
       "16379    2.0\n",
       "16380    1.0\n",
       "16381    1.0\n",
       "16382    1.0\n",
       "Name: Number.of.Engines, Length: 16356, dtype: float64"
      ]
     },
     "execution_count": 43,
     "metadata": {},
     "output_type": "execute_result"
    }
   ],
   "source": [
    "df['Number.of.Engines']"
   ]
  },
  {
   "cell_type": "code",
   "execution_count": 44,
   "id": "c33a72ed-c09c-49ed-9294-e514a0bfd031",
   "metadata": {},
   "outputs": [],
   "source": [
    "engines = df['Number.of.Engines']\n",
    "cleaned_eng = df['Number.of.Engines'].mean()\n",
    "engines.fillna(cleaned_eng, inplace = True)"
   ]
  },
  {
   "cell_type": "code",
   "execution_count": 46,
   "id": "63bce835-200f-4dc4-854b-55e26c631e6f",
   "metadata": {},
   "outputs": [],
   "source": [
    "name_cleaned = df['Engine.Type'].fillna('Unknown', inplace=True)"
   ]
  },
  {
   "cell_type": "code",
   "execution_count": 47,
   "id": "ed2836de-2e99-4a05-806d-36e2dbe0380b",
   "metadata": {},
   "outputs": [
    {
     "name": "stdout",
     "output_type": "stream",
     "text": [
      "0        NaN\n",
      "1        NaN\n",
      "2        NaN\n",
      "3        NaN\n",
      "4        NaN\n",
      "        ... \n",
      "16378    NaN\n",
      "16379    NaN\n",
      "16380    NaN\n",
      "16381    NaN\n",
      "16382    NaN\n",
      "Name: FAR.Description, Length: 16356, dtype: object\n"
     ]
    }
   ],
   "source": [
    "far = df['FAR.Description']\n",
    "print(far)"
   ]
  },
  {
   "cell_type": "code",
   "execution_count": 48,
   "id": "08ca6b36-7de7-44c2-adfd-bddf0f136422",
   "metadata": {},
   "outputs": [],
   "source": [
    "df.dropna(subset=['FAR.Description'], inplace=True)\n"
   ]
  },
  {
   "cell_type": "code",
   "execution_count": 49,
   "id": "558525ea-c795-492e-9d24-32d442875f38",
   "metadata": {},
   "outputs": [
    {
     "data": {
      "text/plain": [
       "5       SCHD\n",
       "7        NaN\n",
       "8        NaN\n",
       "12       NaN\n",
       "13       NaN\n",
       "        ... \n",
       "1019     NaN\n",
       "1020    NSCH\n",
       "1021     NaN\n",
       "1022    NSCH\n",
       "1023     NaN\n",
       "Name: Schedule, Length: 1000, dtype: object"
      ]
     },
     "execution_count": 49,
     "metadata": {},
     "output_type": "execute_result"
    }
   ],
   "source": [
    "df['Schedule'].iloc[0:1000]"
   ]
  },
  {
   "cell_type": "code",
   "execution_count": 50,
   "id": "66397a71-4a3a-4b2c-9804-a679c3d467b7",
   "metadata": {},
   "outputs": [],
   "source": [
    "name_cleaned = df['Schedule'].fillna('Unknown', inplace=True)"
   ]
  },
  {
   "cell_type": "code",
   "execution_count": 51,
   "id": "38b94c16-8b7c-476b-9d9c-559fc70cb379",
   "metadata": {},
   "outputs": [
    {
     "data": {
      "text/plain": [
       "5                    NaN\n",
       "7               Personal\n",
       "8               Business\n",
       "12              Personal\n",
       "13              Personal\n",
       "              ...       \n",
       "14711          Skydiving\n",
       "14712      Instructional\n",
       "14805    Public Aircraft\n",
       "14806            Unknown\n",
       "16278           Personal\n",
       "Name: Purpose.of.flight, Length: 3581, dtype: object"
      ]
     },
     "execution_count": 51,
     "metadata": {},
     "output_type": "execute_result"
    }
   ],
   "source": [
    "df['Purpose.of.flight']"
   ]
  },
  {
   "cell_type": "code",
   "execution_count": 52,
   "id": "a391622a-d719-4461-8bdf-2ca44f399102",
   "metadata": {},
   "outputs": [],
   "source": [
    "df.dropna(subset=['Purpose.of.flight'], inplace=True)"
   ]
  },
  {
   "cell_type": "code",
   "execution_count": 53,
   "id": "5a89ebd7-537e-47db-92d3-3e339d011635",
   "metadata": {},
   "outputs": [
    {
     "data": {
      "text/plain": [
       "7                        NaN\n",
       "8                        NaN\n",
       "12                       NaN\n",
       "13                       NaN\n",
       "14                       NaN\n",
       "                ...         \n",
       "1020    Richard K. Armstrong\n",
       "1021                     NaN\n",
       "1022     Huntsville Aviation\n",
       "1023                     NaN\n",
       "1024                     NaN\n",
       "Name: Air.carrier, Length: 999, dtype: object"
      ]
     },
     "execution_count": 53,
     "metadata": {},
     "output_type": "execute_result"
    }
   ],
   "source": [
    "df['Air.carrier'].iloc[0:999]"
   ]
  },
  {
   "cell_type": "code",
   "execution_count": 54,
   "id": "e35bb36f-5375-4843-b590-982911a80245",
   "metadata": {},
   "outputs": [],
   "source": [
    "df.dropna(subset=['Air.carrier'], inplace=True)"
   ]
  },
  {
   "cell_type": "code",
   "execution_count": 55,
   "id": "4ad83c4a-3b62-4e73-9695-9ab4f6697c6c",
   "metadata": {},
   "outputs": [
    {
     "name": "stdout",
     "output_type": "stream",
     "text": [
      "22       0.0\n",
      "33       2.0\n",
      "39       2.0\n",
      "43       0.0\n",
      "44       0.0\n",
      "        ... \n",
      "3598     0.0\n",
      "3599     0.0\n",
      "7312     NaN\n",
      "7708     NaN\n",
      "10140    NaN\n",
      "Name: Total.Fatal.Injuries, Length: 229, dtype: float64\n"
     ]
    }
   ],
   "source": [
    "total = df['Total.Fatal.Injuries']\n",
    "print(total)"
   ]
  },
  {
   "cell_type": "code",
   "execution_count": 56,
   "id": "ef0a303a-60e9-403b-ad66-73db3d3521d0",
   "metadata": {},
   "outputs": [],
   "source": [
    "cleaned  = total.mean()\n",
    "total.fillna(cleaned, inplace = True)"
   ]
  },
  {
   "cell_type": "code",
   "execution_count": 57,
   "id": "04d1343b-c6aa-4b28-b11b-9dd87eb386ad",
   "metadata": {},
   "outputs": [
    {
     "name": "stdout",
     "output_type": "stream",
     "text": [
      "22       0.0\n",
      "33       0.0\n",
      "39       0.0\n",
      "43       0.0\n",
      "44       2.0\n",
      "        ... \n",
      "3598     0.0\n",
      "3599     0.0\n",
      "7312     NaN\n",
      "7708     NaN\n",
      "10140    NaN\n",
      "Name: Total.Serious.Injuries, Length: 229, dtype: float64\n"
     ]
    }
   ],
   "source": [
    "serious = df['Total.Serious.Injuries']\n",
    "print(serious)"
   ]
  },
  {
   "cell_type": "code",
   "execution_count": 58,
   "id": "ed0f961a-04ea-4902-b740-3b35922c8c92",
   "metadata": {},
   "outputs": [],
   "source": [
    "cleaned  = serious.mean()\n",
    "serious.fillna(cleaned, inplace = True)"
   ]
  },
  {
   "cell_type": "code",
   "execution_count": 59,
   "id": "04cf490e-ac1b-422c-a080-5dcc4c9b54a5",
   "metadata": {},
   "outputs": [
    {
     "name": "stdout",
     "output_type": "stream",
     "text": [
      "22       0.0\n",
      "33       0.0\n",
      "39       0.0\n",
      "43       0.0\n",
      "44       0.0\n",
      "        ... \n",
      "3598     1.0\n",
      "3599     0.0\n",
      "7312     NaN\n",
      "7708     NaN\n",
      "10140    NaN\n",
      "Name: Total.Minor.Injuries, Length: 229, dtype: float64\n"
     ]
    }
   ],
   "source": [
    "minor = df['Total.Minor.Injuries']\n",
    "print(minor)"
   ]
  },
  {
   "cell_type": "code",
   "execution_count": 61,
   "id": "f6669b39-271a-4da9-8564-80c41b3ddcb0",
   "metadata": {},
   "outputs": [],
   "source": [
    "cleaned  = minor.mean()\n",
    "minor.fillna(cleaned, inplace = True)"
   ]
  },
  {
   "cell_type": "code",
   "execution_count": 62,
   "id": "b611a3ce-1c3b-41cf-b176-930ca4d04ae0",
   "metadata": {},
   "outputs": [],
   "source": [
    "df.dropna(subset=['Total.Uninjured'], inplace=True)"
   ]
  },
  {
   "cell_type": "code",
   "execution_count": 63,
   "id": "a1b08b86-6a0e-4582-8fc5-a1ab83550efe",
   "metadata": {},
   "outputs": [
    {
     "name": "stdout",
     "output_type": "stream",
     "text": [
      "22       VMC\n",
      "33       VMC\n",
      "39       VMC\n",
      "43       VMC\n",
      "44       VMC\n",
      "        ... \n",
      "3598     VMC\n",
      "3599     VMC\n",
      "7312     VMC\n",
      "7708     VMC\n",
      "10140    IMC\n",
      "Name: Weather.Condition, Length: 229, dtype: object\n"
     ]
    }
   ],
   "source": [
    "weather = df['Weather.Condition']\n",
    "print(weather)"
   ]
  },
  {
   "cell_type": "code",
   "execution_count": 64,
   "id": "8a9b3371-9e7b-49ef-a6da-3357d9ac4b5d",
   "metadata": {},
   "outputs": [],
   "source": [
    "cleaned = weather.mode().iloc[0]\n",
    "weather.fillna(cleaned, inplace= True)"
   ]
  },
  {
   "cell_type": "code",
   "execution_count": 65,
   "id": "59e98091-7eb6-4b4b-8936-db4d75ab5bbe",
   "metadata": {},
   "outputs": [
    {
     "data": {
      "text/plain": [
       "22       Approach\n",
       "33         Cruise\n",
       "39       Approach\n",
       "43           Taxi\n",
       "44        Takeoff\n",
       "           ...   \n",
       "3598      Landing\n",
       "3599      Takeoff\n",
       "7312      Takeoff\n",
       "7708      Landing\n",
       "10140      Cruise\n",
       "Name: Broad.phase.of.flight, Length: 229, dtype: object"
      ]
     },
     "execution_count": 65,
     "metadata": {},
     "output_type": "execute_result"
    }
   ],
   "source": [
    "df['Broad.phase.of.flight']"
   ]
  },
  {
   "cell_type": "code",
   "execution_count": 66,
   "id": "9108ad4c-0847-4c3a-8fd1-73db73239d93",
   "metadata": {},
   "outputs": [],
   "source": [
    "df['Broad.phase.of.flight'].fillna('Unknown', inplace=True)\n"
   ]
  },
  {
   "cell_type": "code",
   "execution_count": 68,
   "id": "b4c104bf-dc6d-471c-a407-81a5b9b22588",
   "metadata": {},
   "outputs": [
    {
     "data": {
      "text/plain": [
       "22       Probable Cause\n",
       "33       Probable Cause\n",
       "39       Probable Cause\n",
       "43       Probable Cause\n",
       "44       Probable Cause\n",
       "              ...      \n",
       "3598     Probable Cause\n",
       "3599     Probable Cause\n",
       "7312     Probable Cause\n",
       "7708     Probable Cause\n",
       "10140    Probable Cause\n",
       "Name: Report.Status, Length: 229, dtype: object"
      ]
     },
     "execution_count": 68,
     "metadata": {},
     "output_type": "execute_result"
    }
   ],
   "source": [
    "df['Report.Status']"
   ]
  },
  {
   "cell_type": "code",
   "execution_count": 69,
   "id": "36a67494-510e-4738-9365-24f2f5aeb28c",
   "metadata": {},
   "outputs": [],
   "source": [
    "df['Report.Status'].fillna('Unknown', inplace=True)\n"
   ]
  },
  {
   "cell_type": "code",
   "execution_count": 70,
   "id": "e5a262df-c73a-4fa3-a833-c6f1dd32199d",
   "metadata": {},
   "outputs": [],
   "source": [
    "df.dropna(subset=['Publication.Date'], inplace=True)"
   ]
  },
  {
   "cell_type": "code",
   "execution_count": 71,
   "id": "a0134ddb-e7f4-4181-b728-d2ac1aa15311",
   "metadata": {},
   "outputs": [
    {
     "data": {
      "text/plain": [
       "Event.Id                  0.0\n",
       "Investigation.Type        0.0\n",
       "Accident.Number           0.0\n",
       "Event.Date                0.0\n",
       "Location                  0.0\n",
       "Country                   0.0\n",
       "Latitude                  0.0\n",
       "Longitude                 0.0\n",
       "Airport.Code              0.0\n",
       "Airport.Name              0.0\n",
       "Injury.Severity           0.0\n",
       "Aircraft.damage           0.0\n",
       "Aircraft.Category         0.0\n",
       "Registration.Number       0.0\n",
       "Make                      0.0\n",
       "Model                     0.0\n",
       "Amateur.Built             0.0\n",
       "Number.of.Engines         0.0\n",
       "Engine.Type               0.0\n",
       "FAR.Description           0.0\n",
       "Schedule                  0.0\n",
       "Purpose.of.flight         0.0\n",
       "Air.carrier               0.0\n",
       "Total.Fatal.Injuries      0.0\n",
       "Total.Serious.Injuries    0.0\n",
       "Total.Minor.Injuries      0.0\n",
       "Total.Uninjured           0.0\n",
       "Weather.Condition         0.0\n",
       "Broad.phase.of.flight     0.0\n",
       "Report.Status             0.0\n",
       "Publication.Date          0.0\n",
       "dtype: float64"
      ]
     },
     "execution_count": 71,
     "metadata": {},
     "output_type": "execute_result"
    }
   ],
   "source": [
    "df.isnull().sum()/100"
   ]
  },
  {
   "cell_type": "code",
   "execution_count": 72,
   "id": "f8bb0ba3-e703-4064-a564-b3c69352f084",
   "metadata": {},
   "outputs": [
    {
     "data": {
      "text/html": [
       "<div>\n",
       "<style scoped>\n",
       "    .dataframe tbody tr th:only-of-type {\n",
       "        vertical-align: middle;\n",
       "    }\n",
       "\n",
       "    .dataframe tbody tr th {\n",
       "        vertical-align: top;\n",
       "    }\n",
       "\n",
       "    .dataframe thead th {\n",
       "        text-align: right;\n",
       "    }\n",
       "</style>\n",
       "<table border=\"1\" class=\"dataframe\">\n",
       "  <thead>\n",
       "    <tr style=\"text-align: right;\">\n",
       "      <th></th>\n",
       "      <th>Event.Id</th>\n",
       "      <th>Investigation.Type</th>\n",
       "      <th>Accident.Number</th>\n",
       "      <th>Event.Date</th>\n",
       "      <th>Location</th>\n",
       "      <th>Country</th>\n",
       "      <th>Latitude</th>\n",
       "      <th>Longitude</th>\n",
       "      <th>Airport.Code</th>\n",
       "      <th>Airport.Name</th>\n",
       "      <th>...</th>\n",
       "      <th>Purpose.of.flight</th>\n",
       "      <th>Air.carrier</th>\n",
       "      <th>Total.Fatal.Injuries</th>\n",
       "      <th>Total.Serious.Injuries</th>\n",
       "      <th>Total.Minor.Injuries</th>\n",
       "      <th>Total.Uninjured</th>\n",
       "      <th>Weather.Condition</th>\n",
       "      <th>Broad.phase.of.flight</th>\n",
       "      <th>Report.Status</th>\n",
       "      <th>Publication.Date</th>\n",
       "    </tr>\n",
       "  </thead>\n",
       "  <tbody>\n",
       "    <tr>\n",
       "      <th>22</th>\n",
       "      <td>20020917X01657</td>\n",
       "      <td>Accident</td>\n",
       "      <td>ATL82DA027</td>\n",
       "      <td>02/01/1982</td>\n",
       "      <td>CHAMBLEE, GA</td>\n",
       "      <td>United States</td>\n",
       "      <td>30.757778</td>\n",
       "      <td>-120.849722</td>\n",
       "      <td>PDK</td>\n",
       "      <td>Unknown</td>\n",
       "      <td>...</td>\n",
       "      <td>Unknown</td>\n",
       "      <td>Rocky Mountain Helicopters, In</td>\n",
       "      <td>0.000000</td>\n",
       "      <td>0.000000</td>\n",
       "      <td>0.000000</td>\n",
       "      <td>1.0</td>\n",
       "      <td>VMC</td>\n",
       "      <td>Approach</td>\n",
       "      <td>Probable Cause</td>\n",
       "      <td>02/01/1983</td>\n",
       "    </tr>\n",
       "    <tr>\n",
       "      <th>33</th>\n",
       "      <td>20020917X02254</td>\n",
       "      <td>Accident</td>\n",
       "      <td>LAX82FA038</td>\n",
       "      <td>04/01/1982</td>\n",
       "      <td>NEAR LAS VEGAS, NV</td>\n",
       "      <td>United States</td>\n",
       "      <td>30.757778</td>\n",
       "      <td>-120.849722</td>\n",
       "      <td>MRI</td>\n",
       "      <td>Unknown</td>\n",
       "      <td>...</td>\n",
       "      <td>Unknown</td>\n",
       "      <td>Lang Air Service</td>\n",
       "      <td>2.000000</td>\n",
       "      <td>0.000000</td>\n",
       "      <td>0.000000</td>\n",
       "      <td>0.0</td>\n",
       "      <td>VMC</td>\n",
       "      <td>Cruise</td>\n",
       "      <td>Probable Cause</td>\n",
       "      <td>04/01/1983</td>\n",
       "    </tr>\n",
       "    <tr>\n",
       "      <th>39</th>\n",
       "      <td>20020917X01906</td>\n",
       "      <td>Accident</td>\n",
       "      <td>DCA82AA009</td>\n",
       "      <td>05/01/1982</td>\n",
       "      <td>ITHACA, NY</td>\n",
       "      <td>United States</td>\n",
       "      <td>30.757778</td>\n",
       "      <td>-120.849722</td>\n",
       "      <td>MRI</td>\n",
       "      <td>TOMPKINS COUNTY</td>\n",
       "      <td>...</td>\n",
       "      <td>Unknown</td>\n",
       "      <td>Empire Airlines</td>\n",
       "      <td>2.000000</td>\n",
       "      <td>0.000000</td>\n",
       "      <td>0.000000</td>\n",
       "      <td>0.0</td>\n",
       "      <td>VMC</td>\n",
       "      <td>Approach</td>\n",
       "      <td>Probable Cause</td>\n",
       "      <td>05/01/1983</td>\n",
       "    </tr>\n",
       "    <tr>\n",
       "      <th>43</th>\n",
       "      <td>20020917X02156</td>\n",
       "      <td>Accident</td>\n",
       "      <td>LAX82DA037</td>\n",
       "      <td>05/01/1982</td>\n",
       "      <td>SPRINGERVILLE, AZ</td>\n",
       "      <td>United States</td>\n",
       "      <td>30.757778</td>\n",
       "      <td>-120.849722</td>\n",
       "      <td>Q35</td>\n",
       "      <td>SPRINGERVILLE</td>\n",
       "      <td>...</td>\n",
       "      <td>Unknown</td>\n",
       "      <td>Joel Frederick's Monarch Air</td>\n",
       "      <td>0.000000</td>\n",
       "      <td>0.000000</td>\n",
       "      <td>0.000000</td>\n",
       "      <td>1.0</td>\n",
       "      <td>VMC</td>\n",
       "      <td>Taxi</td>\n",
       "      <td>Probable Cause</td>\n",
       "      <td>05/01/1983</td>\n",
       "    </tr>\n",
       "    <tr>\n",
       "      <th>44</th>\n",
       "      <td>20020917X01651</td>\n",
       "      <td>Accident</td>\n",
       "      <td>ANC82FA012</td>\n",
       "      <td>05/01/1982</td>\n",
       "      <td>BETHEL, AK</td>\n",
       "      <td>United States</td>\n",
       "      <td>30.757778</td>\n",
       "      <td>-120.849722</td>\n",
       "      <td>BET</td>\n",
       "      <td>BETHEL</td>\n",
       "      <td>...</td>\n",
       "      <td>Unknown</td>\n",
       "      <td>Executive Charter Service</td>\n",
       "      <td>0.000000</td>\n",
       "      <td>2.000000</td>\n",
       "      <td>0.000000</td>\n",
       "      <td>0.0</td>\n",
       "      <td>VMC</td>\n",
       "      <td>Takeoff</td>\n",
       "      <td>Probable Cause</td>\n",
       "      <td>05/01/1983</td>\n",
       "    </tr>\n",
       "    <tr>\n",
       "      <th>...</th>\n",
       "      <td>...</td>\n",
       "      <td>...</td>\n",
       "      <td>...</td>\n",
       "      <td>...</td>\n",
       "      <td>...</td>\n",
       "      <td>...</td>\n",
       "      <td>...</td>\n",
       "      <td>...</td>\n",
       "      <td>...</td>\n",
       "      <td>...</td>\n",
       "      <td>...</td>\n",
       "      <td>...</td>\n",
       "      <td>...</td>\n",
       "      <td>...</td>\n",
       "      <td>...</td>\n",
       "      <td>...</td>\n",
       "      <td>...</td>\n",
       "      <td>...</td>\n",
       "      <td>...</td>\n",
       "      <td>...</td>\n",
       "      <td>...</td>\n",
       "    </tr>\n",
       "    <tr>\n",
       "      <th>3598</th>\n",
       "      <td>20020917X04581</td>\n",
       "      <td>Accident</td>\n",
       "      <td>DEN83LA043</td>\n",
       "      <td>31/12/1982</td>\n",
       "      <td>11MI. SO.OFTELL, CO</td>\n",
       "      <td>United States</td>\n",
       "      <td>30.757778</td>\n",
       "      <td>-120.849722</td>\n",
       "      <td>MRI</td>\n",
       "      <td>Unknown</td>\n",
       "      <td>...</td>\n",
       "      <td>Unknown</td>\n",
       "      <td>North American Helicopter Svc.</td>\n",
       "      <td>0.000000</td>\n",
       "      <td>0.000000</td>\n",
       "      <td>1.000000</td>\n",
       "      <td>4.0</td>\n",
       "      <td>VMC</td>\n",
       "      <td>Landing</td>\n",
       "      <td>Probable Cause</td>\n",
       "      <td>31/12/1983</td>\n",
       "    </tr>\n",
       "    <tr>\n",
       "      <th>3599</th>\n",
       "      <td>20020917X04248</td>\n",
       "      <td>Accident</td>\n",
       "      <td>ANC83LA038</td>\n",
       "      <td>31/12/1982</td>\n",
       "      <td>NUNAPITCHUK, AK</td>\n",
       "      <td>United States</td>\n",
       "      <td>30.757778</td>\n",
       "      <td>-120.849722</td>\n",
       "      <td>98Z</td>\n",
       "      <td>NUNAPITCHUK</td>\n",
       "      <td>...</td>\n",
       "      <td>Unknown</td>\n",
       "      <td>Delaire Charter Service</td>\n",
       "      <td>0.000000</td>\n",
       "      <td>0.000000</td>\n",
       "      <td>0.000000</td>\n",
       "      <td>7.0</td>\n",
       "      <td>VMC</td>\n",
       "      <td>Takeoff</td>\n",
       "      <td>Probable Cause</td>\n",
       "      <td>31/12/1983</td>\n",
       "    </tr>\n",
       "    <tr>\n",
       "      <th>7312</th>\n",
       "      <td>20001214X38563</td>\n",
       "      <td>Accident</td>\n",
       "      <td>DEN84LA075</td>\n",
       "      <td>26/01/1984</td>\n",
       "      <td>BUFFALO, WY</td>\n",
       "      <td>United States</td>\n",
       "      <td>30.757778</td>\n",
       "      <td>-120.849722</td>\n",
       "      <td>MRI</td>\n",
       "      <td>Unknown</td>\n",
       "      <td>...</td>\n",
       "      <td>Unknown</td>\n",
       "      <td>Soloy Heliops</td>\n",
       "      <td>0.417778</td>\n",
       "      <td>0.377778</td>\n",
       "      <td>0.377778</td>\n",
       "      <td>2.0</td>\n",
       "      <td>VMC</td>\n",
       "      <td>Takeoff</td>\n",
       "      <td>Probable Cause</td>\n",
       "      <td>05/06/2019</td>\n",
       "    </tr>\n",
       "    <tr>\n",
       "      <th>7708</th>\n",
       "      <td>20001214X38957</td>\n",
       "      <td>Accident</td>\n",
       "      <td>ATL84LA120</td>\n",
       "      <td>14/03/1984</td>\n",
       "      <td>MYRTLE BEACH, SC</td>\n",
       "      <td>United States</td>\n",
       "      <td>30.757778</td>\n",
       "      <td>-120.849722</td>\n",
       "      <td>CRE</td>\n",
       "      <td>GRAND STRAND</td>\n",
       "      <td>...</td>\n",
       "      <td>Unknown</td>\n",
       "      <td>Mountain Air Cargo, Inc.</td>\n",
       "      <td>0.417778</td>\n",
       "      <td>0.377778</td>\n",
       "      <td>0.377778</td>\n",
       "      <td>1.0</td>\n",
       "      <td>VMC</td>\n",
       "      <td>Landing</td>\n",
       "      <td>Probable Cause</td>\n",
       "      <td>24/09/2018</td>\n",
       "    </tr>\n",
       "    <tr>\n",
       "      <th>10140</th>\n",
       "      <td>20001214X41363</td>\n",
       "      <td>Incident</td>\n",
       "      <td>FTW85IA028</td>\n",
       "      <td>26/10/1984</td>\n",
       "      <td>TULSA, OK</td>\n",
       "      <td>United States</td>\n",
       "      <td>30.757778</td>\n",
       "      <td>-120.849722</td>\n",
       "      <td>TUL</td>\n",
       "      <td>TULSA INTL'</td>\n",
       "      <td>...</td>\n",
       "      <td>Unknown</td>\n",
       "      <td>Scheduled Skyways</td>\n",
       "      <td>0.417778</td>\n",
       "      <td>0.377778</td>\n",
       "      <td>0.377778</td>\n",
       "      <td>9.0</td>\n",
       "      <td>IMC</td>\n",
       "      <td>Cruise</td>\n",
       "      <td>Probable Cause</td>\n",
       "      <td>05/06/2019</td>\n",
       "    </tr>\n",
       "  </tbody>\n",
       "</table>\n",
       "<p>229 rows × 31 columns</p>\n",
       "</div>"
      ],
      "text/plain": [
       "             Event.Id Investigation.Type Accident.Number  Event.Date  \\\n",
       "22     20020917X01657           Accident      ATL82DA027  02/01/1982   \n",
       "33     20020917X02254           Accident      LAX82FA038  04/01/1982   \n",
       "39     20020917X01906           Accident      DCA82AA009  05/01/1982   \n",
       "43     20020917X02156           Accident      LAX82DA037  05/01/1982   \n",
       "44     20020917X01651           Accident      ANC82FA012  05/01/1982   \n",
       "...               ...                ...             ...         ...   \n",
       "3598   20020917X04581           Accident      DEN83LA043  31/12/1982   \n",
       "3599   20020917X04248           Accident      ANC83LA038  31/12/1982   \n",
       "7312   20001214X38563           Accident      DEN84LA075  26/01/1984   \n",
       "7708   20001214X38957           Accident      ATL84LA120  14/03/1984   \n",
       "10140  20001214X41363           Incident      FTW85IA028  26/10/1984   \n",
       "\n",
       "                  Location        Country   Latitude   Longitude Airport.Code  \\\n",
       "22            CHAMBLEE, GA  United States  30.757778 -120.849722          PDK   \n",
       "33      NEAR LAS VEGAS, NV  United States  30.757778 -120.849722          MRI   \n",
       "39              ITHACA, NY  United States  30.757778 -120.849722          MRI   \n",
       "43       SPRINGERVILLE, AZ  United States  30.757778 -120.849722          Q35   \n",
       "44              BETHEL, AK  United States  30.757778 -120.849722          BET   \n",
       "...                    ...            ...        ...         ...          ...   \n",
       "3598   11MI. SO.OFTELL, CO  United States  30.757778 -120.849722          MRI   \n",
       "3599       NUNAPITCHUK, AK  United States  30.757778 -120.849722          98Z   \n",
       "7312           BUFFALO, WY  United States  30.757778 -120.849722          MRI   \n",
       "7708      MYRTLE BEACH, SC  United States  30.757778 -120.849722          CRE   \n",
       "10140            TULSA, OK  United States  30.757778 -120.849722          TUL   \n",
       "\n",
       "          Airport.Name  ... Purpose.of.flight                     Air.carrier  \\\n",
       "22             Unknown  ...           Unknown  Rocky Mountain Helicopters, In   \n",
       "33             Unknown  ...           Unknown                Lang Air Service   \n",
       "39     TOMPKINS COUNTY  ...           Unknown                 Empire Airlines   \n",
       "43       SPRINGERVILLE  ...           Unknown    Joel Frederick's Monarch Air   \n",
       "44              BETHEL  ...           Unknown       Executive Charter Service   \n",
       "...                ...  ...               ...                             ...   \n",
       "3598           Unknown  ...           Unknown  North American Helicopter Svc.   \n",
       "3599       NUNAPITCHUK  ...           Unknown         Delaire Charter Service   \n",
       "7312           Unknown  ...           Unknown                   Soloy Heliops   \n",
       "7708      GRAND STRAND  ...           Unknown        Mountain Air Cargo, Inc.   \n",
       "10140      TULSA INTL'  ...           Unknown               Scheduled Skyways   \n",
       "\n",
       "      Total.Fatal.Injuries Total.Serious.Injuries Total.Minor.Injuries  \\\n",
       "22                0.000000               0.000000             0.000000   \n",
       "33                2.000000               0.000000             0.000000   \n",
       "39                2.000000               0.000000             0.000000   \n",
       "43                0.000000               0.000000             0.000000   \n",
       "44                0.000000               2.000000             0.000000   \n",
       "...                    ...                    ...                  ...   \n",
       "3598              0.000000               0.000000             1.000000   \n",
       "3599              0.000000               0.000000             0.000000   \n",
       "7312              0.417778               0.377778             0.377778   \n",
       "7708              0.417778               0.377778             0.377778   \n",
       "10140             0.417778               0.377778             0.377778   \n",
       "\n",
       "      Total.Uninjured Weather.Condition  Broad.phase.of.flight  \\\n",
       "22                1.0               VMC               Approach   \n",
       "33                0.0               VMC                 Cruise   \n",
       "39                0.0               VMC               Approach   \n",
       "43                1.0               VMC                   Taxi   \n",
       "44                0.0               VMC                Takeoff   \n",
       "...               ...               ...                    ...   \n",
       "3598              4.0               VMC                Landing   \n",
       "3599              7.0               VMC                Takeoff   \n",
       "7312              2.0               VMC                Takeoff   \n",
       "7708              1.0               VMC                Landing   \n",
       "10140             9.0               IMC                 Cruise   \n",
       "\n",
       "        Report.Status Publication.Date  \n",
       "22     Probable Cause       02/01/1983  \n",
       "33     Probable Cause       04/01/1983  \n",
       "39     Probable Cause       05/01/1983  \n",
       "43     Probable Cause       05/01/1983  \n",
       "44     Probable Cause       05/01/1983  \n",
       "...               ...              ...  \n",
       "3598   Probable Cause       31/12/1983  \n",
       "3599   Probable Cause       31/12/1983  \n",
       "7312   Probable Cause       05/06/2019  \n",
       "7708   Probable Cause       24/09/2018  \n",
       "10140  Probable Cause       05/06/2019  \n",
       "\n",
       "[229 rows x 31 columns]"
      ]
     },
     "execution_count": 72,
     "metadata": {},
     "output_type": "execute_result"
    }
   ],
   "source": [
    "df.copy()"
   ]
  },
  {
   "cell_type": "code",
   "execution_count": 8,
   "id": "1c9857d2-c57b-4bc1-bd3f-efda3115e190",
   "metadata": {},
   "outputs": [],
   "source": [
    "df.to_csv('AviationData.csv')"
   ]
  },
  {
   "cell_type": "code",
   "execution_count": null,
   "id": "3e8dcfe4-0794-4002-b7fa-29dac554f8c1",
   "metadata": {},
   "outputs": [],
   "source": [
    "import pandas as pd\n",
    "import matplotlib.pyplot as plt\n",
    "import seaborn as sns"
   ]
  },
  {
   "cell_type": "code",
   "execution_count": null,
   "id": "89bb9a05-3200-46ba-a25c-8849a66df622",
   "metadata": {},
   "outputs": [],
   "source": [
    "# Convert 'Model' column to string type\n",
    "data['Model'] = data['Model'].astype(str)\n",
    "\n",
    "# Iterate through each injury type and create individual line graphs\n",
    "injury_types = ['Total.Fatal.Injuries', 'Total.Serious.Injuries', 'Total.Minor.Injuries', 'Total.Uninjured']\n",
    "for injury_type in injury_types:\n",
    "    plt.figure(figsize=(12, 8))\n",
    "    plt.plot(data['Model'], data[injury_type], marker='o', linestyle='-')\n",
    "    plt.xlabel('Model')\n",
    "    plt.ylabel('Number of ' + injury_type)\n",
    "    plt.title('Line Graph of ' + injury_type + ' by Model')\n",
    "    plt.xticks(rotation=45)\n",
    "    plt.grid(True)\n",
    "    \n",
    "    # Save the plot as a JPG file\n",
    "    plt.savefig('line_graph_' + injury_type + '_by_model.jpg', dpi=300, bbox_inches='tight')\n",
    "    \n",
    "    plt.show()\n"
   ]
  },
  {
   "cell_type": "code",
   "execution_count": null,
   "id": "c211e89c-9562-4a48-b4f0-c8a9e21a39c7",
   "metadata": {},
   "outputs": [],
   "source": []
  }
 ],
 "metadata": {
  "kernelspec": {
   "display_name": "Python 3 (ipykernel)",
   "language": "python",
   "name": "python3"
  },
  "language_info": {
   "codemirror_mode": {
    "name": "ipython",
    "version": 3
   },
   "file_extension": ".py",
   "mimetype": "text/x-python",
   "name": "python",
   "nbconvert_exporter": "python",
   "pygments_lexer": "ipython3",
   "version": "3.11.7"
  }
 },
 "nbformat": 4,
 "nbformat_minor": 5
}
